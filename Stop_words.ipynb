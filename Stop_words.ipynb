{
  "nbformat": 4,
  "nbformat_minor": 0,
  "metadata": {
    "colab": {
      "name": "Stop_words.ipynb",
      "provenance": [],
      "authorship_tag": "ABX9TyNQm18nyaBZHt3HykvDa9Er",
      "include_colab_link": true
    },
    "kernelspec": {
      "name": "python3",
      "display_name": "Python 3"
    },
    "language_info": {
      "name": "python"
    }
  },
  "cells": [
    {
      "cell_type": "markdown",
      "metadata": {
        "id": "view-in-github",
        "colab_type": "text"
      },
      "source": [
        "<a href=\"https://colab.research.google.com/github/Celinekimm/ML_Algorithms/blob/main/Stop_words.ipynb\" target=\"_parent\"><img src=\"https://colab.research.google.com/assets/colab-badge.svg\" alt=\"Open In Colab\"/></a>"
      ]
    },
    {
      "cell_type": "code",
      "metadata": {
        "id": "F8_6Xj0NEJzO"
      },
      "source": [
        "import spacy\n",
        "nlp = spacy.load('en_core_web_sm')"
      ],
      "execution_count": 1,
      "outputs": []
    },
    {
      "cell_type": "code",
      "source": [
        "print(nlp.Defaults.stop_words)"
      ],
      "metadata": {
        "colab": {
          "base_uri": "https://localhost:8080/"
        },
        "id": "QmjN9u29jidC",
        "outputId": "f9ba0322-ee43-43f5-924b-f749166faa73"
      },
      "execution_count": 2,
      "outputs": [
        {
          "output_type": "stream",
          "name": "stdout",
          "text": [
            "{'’s', 'out', 'whose', 'due', 'your', 'seem', 'then', 'regarding', 'last', 'put', 'namely', 'perhaps', 'her', 'go', 'again', 'formerly', 'whether', 'throughout', 'hereafter', 'next', 'side', 'thus', '‘s', 'have', 'quite', 'below', 'anyhow', 'towards', 'within', 'with', 'some', 'us', 'from', 'six', 'which', 'who', 'wherein', 'here', 'rather', 'anything', 'anywhere', 'everyone', '‘m', '’d', 'somewhere', 'itself', 'most', 'although', 'while', 'after', 'these', 'my', 'keep', 'made', 'were', 'eight', 'thereupon', 'upon', 'might', 'any', 'this', 'had', 'hence', 'per', 'another', 'less', 'those', 'around', 'get', 'never', 'also', 'until', 'used', 'same', '’m', 'unless', 'two', 'whereby', 'moreover', 'nine', 'very', 'whither', 'mostly', 'forty', 'whom', 'we', 'seems', 'their', 'on', 'hers', 'off', 'noone', 'do', 'hundred', 'over', \"'ll\", 'along', 'latterly', 'least', 'under', 'being', 'top', 'hereupon', 'our', 'onto', 'still', 'only', 'done', 'whenever', 'herein', '‘re', 'else', 'alone', 'yourself', 'above', 'other', 'been', 'using', 'behind', 'will', 'one', 'elsewhere', 'beside', 'she', 'full', 'nor', 'please', 'first', 'is', 'bottom', 'or', 'however', 'others', 'four', 'either', 'show', 'nevertheless', 'somehow', 'further', 'during', 'must', 'as', 'herself', 'would', 'though', 'seeming', 'often', 'everywhere', 'eleven', 'so', 'whereafter', \"'s\", 'where', 'and', 'them', 'did', 'becoming', 'meanwhile', 'if', 'him', 'at', 'could', 'its', 'are', 'someone', 'it', 'own', 'whole', 'yourselves', 'an', 'fifty', 'too', 'between', 'can', 'down', 'everything', 'every', 'became', 'several', '‘ve', 'say', 'sometime', 'n‘t', 'really', 'in', 'a', 'me', 'am', 'because', 'fifteen', '’ll', 'back', 'beforehand', 'ourselves', 'no', 'such', 'there', 'anyone', 'be', 'well', \"'re\", 'about', 'except', 'something', 'yet', 'thereby', 'via', 'should', 'that', 'three', 'already', 'all', 'neither', 'once', 'therefore', 'twenty', \"'d\", 'before', 'take', 'across', 'amongst', 'make', 'afterwards', 'than', 'when', 'just', 'more', 'otherwise', 'becomes', 'call', 'empty', 'move', 'third', 'whoever', 'the', 'themselves', 'latter', 'both', 'sometimes', 'become', '‘ll', 'former', '’re', 'yours', 'by', 'many', 'sixty', 'ever', 'what', 'of', 'doing', 'nothing', 'twelve', 'his', 'has', 'i', \"'ve\", 'toward', 'now', 'since', 'against', 'enough', 'hereby', 'give', 'each', 'even', 'whereupon', 'n’t', 'nobody', 'besides', 'without', 'front', 'ca', 'seemed', 'indeed', 'whence', 'they', 'up', 'name', 'much', 'how', 'nowhere', 'together', 'but', 'why', 'see', 'serious', 're', '‘d', 'wherever', '’ve', 'ten', 'was', 'for', 'he', 'you', 'among', 'not', 'always', 'part', 'to', 'whereas', 'myself', \"'m\", 'himself', \"n't\", 'does', 'almost', 'may', 'thence', 'beyond', 'into', 'mine', 'amount', 'none', 'ours', 'thereafter', 'whatever', 'various', 'cannot', 'five', 'therein', 'few', 'thru', 'through', 'anyway'}\n"
          ]
        }
      ]
    },
    {
      "cell_type": "code",
      "source": [
        "len(nlp.Defaults.stop_words)"
      ],
      "metadata": {
        "colab": {
          "base_uri": "https://localhost:8080/"
        },
        "id": "oPVQpHn3jpC7",
        "outputId": "4789c7cb-7c47-4dfa-d6ac-4ef76338388f"
      },
      "execution_count": 3,
      "outputs": [
        {
          "output_type": "execute_result",
          "data": {
            "text/plain": [
              "326"
            ]
          },
          "metadata": {},
          "execution_count": 3
        }
      ]
    },
    {
      "cell_type": "code",
      "source": [
        "nlp.vocab['always'].is_stop"
      ],
      "metadata": {
        "colab": {
          "base_uri": "https://localhost:8080/"
        },
        "id": "jwG50aLPjuoL",
        "outputId": "9c505293-8ad5-4547-a434-6fc126c1203e"
      },
      "execution_count": 4,
      "outputs": [
        {
          "output_type": "execute_result",
          "data": {
            "text/plain": [
              "True"
            ]
          },
          "metadata": {},
          "execution_count": 4
        }
      ]
    },
    {
      "cell_type": "code",
      "source": [
        "nlp.vocab['finance'].is_stop"
      ],
      "metadata": {
        "colab": {
          "base_uri": "https://localhost:8080/"
        },
        "id": "6lGbo5kxj2OL",
        "outputId": "afe82481-a04e-46f6-c927-41f4b708b6f2"
      },
      "execution_count": 5,
      "outputs": [
        {
          "output_type": "execute_result",
          "data": {
            "text/plain": [
              "False"
            ]
          },
          "metadata": {},
          "execution_count": 5
        }
      ]
    },
    {
      "cell_type": "code",
      "source": [
        "nlp.vocab['asdf'].is_stop"
      ],
      "metadata": {
        "colab": {
          "base_uri": "https://localhost:8080/"
        },
        "id": "gBU0BJ_Oj-9j",
        "outputId": "33547a21-4b5f-431e-ed9c-f748ed288f0c"
      },
      "execution_count": 6,
      "outputs": [
        {
          "output_type": "execute_result",
          "data": {
            "text/plain": [
              "False"
            ]
          },
          "metadata": {},
          "execution_count": 6
        }
      ]
    },
    {
      "cell_type": "code",
      "source": [
        "# add stop words\n",
        "nlp.Defaults.stop_words.add('asdf')"
      ],
      "metadata": {
        "id": "4UScgmdtkC0j"
      },
      "execution_count": 8,
      "outputs": []
    },
    {
      "cell_type": "code",
      "source": [
        "nlp.vocab['asdf'].is_stop = True"
      ],
      "metadata": {
        "id": "RFVPtI53kLPj"
      },
      "execution_count": 9,
      "outputs": []
    },
    {
      "cell_type": "code",
      "source": [
        "nlp.vocab['asdf'].is_stop"
      ],
      "metadata": {
        "colab": {
          "base_uri": "https://localhost:8080/"
        },
        "id": "PVmdZCAikVts",
        "outputId": "6d12325a-c113-4f0a-96c9-1199014a6de4"
      },
      "execution_count": 10,
      "outputs": [
        {
          "output_type": "execute_result",
          "data": {
            "text/plain": [
              "True"
            ]
          },
          "metadata": {},
          "execution_count": 10
        }
      ]
    },
    {
      "cell_type": "code",
      "source": [
        "len(nlp.Defaults.stop_words)"
      ],
      "metadata": {
        "colab": {
          "base_uri": "https://localhost:8080/"
        },
        "id": "X_0hUzaUkYOk",
        "outputId": "5da658b9-2ca2-4bfc-9f8b-901c916b810b"
      },
      "execution_count": 11,
      "outputs": [
        {
          "output_type": "execute_result",
          "data": {
            "text/plain": [
              "327"
            ]
          },
          "metadata": {},
          "execution_count": 11
        }
      ]
    },
    {
      "cell_type": "code",
      "source": [
        "nlp.vocab['no'].is_stop"
      ],
      "metadata": {
        "colab": {
          "base_uri": "https://localhost:8080/"
        },
        "id": "fuPCsZ3gkaiz",
        "outputId": "ab3ea6cc-b1f5-4688-8f9a-5f5d11c1076c"
      },
      "execution_count": 12,
      "outputs": [
        {
          "output_type": "execute_result",
          "data": {
            "text/plain": [
              "True"
            ]
          },
          "metadata": {},
          "execution_count": 12
        }
      ]
    },
    {
      "cell_type": "code",
      "source": [
        "nlp.vocab['no'].is_stop = False"
      ],
      "metadata": {
        "id": "fKpPpxsRkc1D"
      },
      "execution_count": 14,
      "outputs": []
    },
    {
      "cell_type": "code",
      "source": [
        "nlp.vocab['no'].is_stop"
      ],
      "metadata": {
        "colab": {
          "base_uri": "https://localhost:8080/"
        },
        "id": "2Ba5o2zHkgKT",
        "outputId": "b1422eab-87e5-4236-f4ae-498cf2ccb82d"
      },
      "execution_count": 16,
      "outputs": [
        {
          "output_type": "execute_result",
          "data": {
            "text/plain": [
              "False"
            ]
          },
          "metadata": {},
          "execution_count": 16
        }
      ]
    },
    {
      "cell_type": "code",
      "source": [
        "# still no is in the list\n",
        "print(nlp.Defaults.stop_words)"
      ],
      "metadata": {
        "colab": {
          "base_uri": "https://localhost:8080/"
        },
        "id": "Z6SuYfDLkhBL",
        "outputId": "5e0a47b6-0a02-46f9-cfff-8024dafa4b64"
      },
      "execution_count": 17,
      "outputs": [
        {
          "output_type": "stream",
          "name": "stdout",
          "text": [
            "{'’s', 'out', 'whose', 'due', 'your', 'seem', 'then', 'regarding', 'last', 'put', 'namely', 'perhaps', 'her', 'go', 'again', 'formerly', 'whether', 'throughout', 'hereafter', 'next', 'side', 'thus', '‘s', 'have', 'quite', 'below', 'anyhow', 'towards', 'within', 'with', 'some', 'us', 'from', 'six', 'which', 'who', 'wherein', 'here', 'rather', 'anything', 'anywhere', 'everyone', '‘m', '’d', 'somewhere', 'itself', 'most', 'although', 'while', 'after', 'these', 'my', 'keep', 'made', 'were', 'eight', 'thereupon', 'upon', 'might', 'any', 'this', 'had', 'hence', 'per', 'another', 'less', 'those', 'around', 'get', 'never', 'also', 'until', 'used', 'same', '’m', 'unless', 'two', 'whereby', 'moreover', 'nine', 'very', 'whither', 'mostly', 'forty', 'whom', 'we', 'seems', 'their', 'on', 'hers', 'off', 'noone', 'do', 'hundred', 'over', \"'ll\", 'along', 'latterly', 'least', 'under', 'being', 'top', 'hereupon', 'our', 'onto', 'still', 'only', 'done', 'whenever', 'herein', '‘re', 'else', 'alone', 'yourself', 'above', 'other', 'been', 'using', 'behind', 'will', 'one', 'elsewhere', 'beside', 'she', 'full', 'nor', 'please', 'first', 'is', 'bottom', 'or', 'however', 'others', 'four', 'either', 'show', 'nevertheless', 'somehow', 'further', 'during', 'must', 'as', 'herself', 'would', 'though', 'seeming', 'often', 'everywhere', 'eleven', 'so', 'whereafter', \"'s\", 'where', 'and', 'them', 'did', 'becoming', 'meanwhile', 'asdf', 'if', 'him', 'at', 'could', 'its', 'are', 'someone', 'it', 'own', 'whole', 'yourselves', 'an', 'fifty', 'too', 'between', 'can', 'down', 'everything', 'every', 'became', 'several', '‘ve', 'say', 'sometime', 'n‘t', 'really', 'in', 'a', 'me', 'am', 'because', 'fifteen', '’ll', 'back', 'beforehand', 'ourselves', 'no', 'such', 'there', 'anyone', 'be', 'well', \"'re\", 'about', 'except', 'something', 'yet', 'thereby', 'via', 'should', 'that', 'three', 'already', 'all', 'neither', 'once', 'therefore', 'twenty', \"'d\", 'before', 'take', 'across', 'amongst', 'make', 'afterwards', 'than', 'when', 'just', 'more', 'otherwise', 'becomes', 'call', 'empty', 'move', 'third', 'whoever', 'the', 'themselves', 'latter', 'both', 'sometimes', 'become', '‘ll', 'former', '’re', 'yours', 'by', 'many', 'sixty', 'ever', 'what', 'of', 'doing', 'nothing', 'twelve', 'his', 'has', 'i', \"'ve\", 'toward', 'now', 'since', 'against', 'enough', 'hereby', 'give', 'each', 'even', 'whereupon', 'n’t', 'nobody', 'besides', 'without', 'front', 'ca', 'seemed', 'indeed', 'whence', 'they', 'up', 'name', 'much', 'how', 'nowhere', 'together', 'but', 'why', 'see', 'serious', 're', '‘d', 'wherever', '’ve', 'ten', 'was', 'for', 'he', 'you', 'among', 'not', 'always', 'part', 'to', 'whereas', 'myself', \"'m\", 'himself', \"n't\", 'does', 'almost', 'may', 'thence', 'beyond', 'into', 'mine', 'amount', 'none', 'ours', 'thereafter', 'whatever', 'various', 'cannot', 'five', 'therein', 'few', 'thru', 'through', 'anyway'}\n"
          ]
        }
      ]
    },
    {
      "cell_type": "code",
      "source": [
        "nlp.Defaults.stop_words.remove('no') "
      ],
      "metadata": {
        "colab": {
          "base_uri": "https://localhost:8080/",
          "height": 168
        },
        "id": "m-lN8oUpkjbE",
        "outputId": "05976d2b-f801-4e5c-e234-a726d56aa81e"
      },
      "execution_count": 20,
      "outputs": [
        {
          "output_type": "error",
          "ename": "KeyError",
          "evalue": "ignored",
          "traceback": [
            "\u001b[0;31m---------------------------------------------------------------------------\u001b[0m",
            "\u001b[0;31mKeyError\u001b[0m                                  Traceback (most recent call last)",
            "\u001b[0;32m<ipython-input-20-8fcd3981ea77>\u001b[0m in \u001b[0;36m<module>\u001b[0;34m()\u001b[0m\n\u001b[0;32m----> 1\u001b[0;31m \u001b[0mnlp\u001b[0m\u001b[0;34m.\u001b[0m\u001b[0mDefaults\u001b[0m\u001b[0;34m.\u001b[0m\u001b[0mstop_words\u001b[0m\u001b[0;34m.\u001b[0m\u001b[0mremove\u001b[0m\u001b[0;34m(\u001b[0m\u001b[0;34m'no'\u001b[0m\u001b[0;34m)\u001b[0m\u001b[0;34m\u001b[0m\u001b[0;34m\u001b[0m\u001b[0m\n\u001b[0m",
            "\u001b[0;31mKeyError\u001b[0m: 'no'"
          ]
        }
      ]
    },
    {
      "cell_type": "code",
      "source": [
        "nlp.vocab['no'].is_stop = False"
      ],
      "metadata": {
        "id": "dbobSoBkkmZs"
      },
      "execution_count": 21,
      "outputs": []
    },
    {
      "cell_type": "code",
      "source": [
        "nlp.vocab['no'].is_stop"
      ],
      "metadata": {
        "colab": {
          "base_uri": "https://localhost:8080/"
        },
        "id": "q19Inpn0kuBD",
        "outputId": "c8099329-f697-4d96-f2e9-9a365ad826c5"
      },
      "execution_count": 22,
      "outputs": [
        {
          "output_type": "execute_result",
          "data": {
            "text/plain": [
              "False"
            ]
          },
          "metadata": {},
          "execution_count": 22
        }
      ]
    },
    {
      "cell_type": "code",
      "source": [
        "print(nlp.Defaults.stop_words)"
      ],
      "metadata": {
        "colab": {
          "base_uri": "https://localhost:8080/"
        },
        "id": "DH3wEfZMkvVz",
        "outputId": "fa42b4ec-8e8d-4998-e4c9-d7f95dc7f4f5"
      },
      "execution_count": 23,
      "outputs": [
        {
          "output_type": "stream",
          "name": "stdout",
          "text": [
            "{'’s', 'out', 'whose', 'due', 'your', 'seem', 'then', 'regarding', 'last', 'put', 'namely', 'perhaps', 'her', 'go', 'again', 'formerly', 'whether', 'throughout', 'hereafter', 'next', 'side', 'thus', '‘s', 'have', 'quite', 'below', 'anyhow', 'towards', 'within', 'with', 'some', 'us', 'from', 'six', 'which', 'who', 'wherein', 'here', 'rather', 'anything', 'anywhere', 'everyone', '‘m', '’d', 'somewhere', 'itself', 'most', 'although', 'while', 'after', 'these', 'my', 'keep', 'made', 'were', 'eight', 'thereupon', 'upon', 'might', 'any', 'this', 'had', 'hence', 'per', 'another', 'less', 'those', 'around', 'get', 'never', 'also', 'until', 'used', 'same', '’m', 'unless', 'two', 'whereby', 'moreover', 'nine', 'very', 'whither', 'mostly', 'forty', 'whom', 'we', 'seems', 'their', 'on', 'hers', 'off', 'noone', 'do', 'hundred', 'over', \"'ll\", 'along', 'latterly', 'least', 'under', 'being', 'top', 'hereupon', 'our', 'onto', 'still', 'only', 'done', 'whenever', 'herein', '‘re', 'else', 'alone', 'yourself', 'above', 'other', 'been', 'using', 'behind', 'will', 'one', 'elsewhere', 'beside', 'she', 'full', 'nor', 'please', 'first', 'is', 'bottom', 'or', 'however', 'others', 'four', 'either', 'show', 'nevertheless', 'somehow', 'further', 'during', 'must', 'as', 'herself', 'would', 'though', 'seeming', 'often', 'everywhere', 'eleven', 'so', 'whereafter', \"'s\", 'where', 'and', 'them', 'did', 'becoming', 'meanwhile', 'asdf', 'if', 'him', 'at', 'could', 'its', 'are', 'someone', 'it', 'own', 'whole', 'yourselves', 'an', 'fifty', 'too', 'between', 'can', 'down', 'everything', 'every', 'became', 'several', '‘ve', 'say', 'sometime', 'n‘t', 'really', 'in', 'a', 'me', 'am', 'because', 'fifteen', '’ll', 'back', 'beforehand', 'ourselves', 'such', 'there', 'anyone', 'be', 'well', \"'re\", 'about', 'except', 'something', 'yet', 'thereby', 'via', 'should', 'that', 'three', 'already', 'all', 'neither', 'once', 'therefore', 'twenty', \"'d\", 'before', 'take', 'across', 'amongst', 'make', 'afterwards', 'than', 'when', 'just', 'more', 'otherwise', 'becomes', 'call', 'empty', 'move', 'third', 'whoever', 'the', 'themselves', 'latter', 'both', 'sometimes', 'become', '‘ll', 'former', '’re', 'yours', 'by', 'many', 'sixty', 'ever', 'what', 'of', 'doing', 'nothing', 'twelve', 'his', 'has', 'i', \"'ve\", 'toward', 'now', 'since', 'against', 'enough', 'hereby', 'give', 'each', 'even', 'whereupon', 'n’t', 'nobody', 'besides', 'without', 'front', 'ca', 'seemed', 'indeed', 'whence', 'they', 'up', 'name', 'much', 'how', 'nowhere', 'together', 'but', 'why', 'see', 'serious', 're', '‘d', 'wherever', '’ve', 'ten', 'was', 'for', 'he', 'you', 'among', 'not', 'always', 'part', 'to', 'whereas', 'myself', \"'m\", 'himself', \"n't\", 'does', 'almost', 'may', 'thence', 'beyond', 'into', 'mine', 'amount', 'none', 'ours', 'thereafter', 'whatever', 'various', 'cannot', 'five', 'therein', 'few', 'thru', 'through', 'anyway'}\n"
          ]
        }
      ]
    },
    {
      "cell_type": "code",
      "source": [
        ""
      ],
      "metadata": {
        "id": "2AoypTivkwur"
      },
      "execution_count": null,
      "outputs": []
    }
  ]
}